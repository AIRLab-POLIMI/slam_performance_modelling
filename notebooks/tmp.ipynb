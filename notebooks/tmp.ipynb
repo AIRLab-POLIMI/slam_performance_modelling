{
 "cells": [
  {
   "cell_type": "code",
   "execution_count": 1,
   "metadata": {},
   "outputs": [
    {
     "data": {
      "text/html": [
       "<style>.container { width:100% !important; }</style>"
      ],
      "text/plain": [
       "<IPython.core.display.HTML object>"
      ]
     },
     "metadata": {},
     "output_type": "display_data"
    }
   ],
   "source": [
    "from IPython.core.display import Markdown, display, HTML\n",
    "display(HTML(\"<style>.container { width:100% !important; }</style>\"))\n",
    "# import ipywidgets as widgets\n",
    "# from ipywidgets import interact, interact_manual\n",
    "\n",
    "import traceback\n",
    "import numpy as np\n",
    "# import scipy.stats as ss\n",
    "import itertools\n",
    "from os import path\n",
    "import pickle\n",
    "# from sklearn.linear_model import LinearRegression, TheilSenRegressor, RANSACRegressor, HuberRegressor\n",
    "# from sklearn.metrics import mean_squared_error, r2_score\n",
    "# from sklearn.preprocessing import PolynomialFeatures, StandardScaler\n",
    "# from sklearn.pipeline import make_pipeline\n",
    "\n",
    "import matplotlib.pyplot as plt\n",
    "plt.rcParams['figure.figsize'] = [30, 13]\n",
    "\n",
    "import pandas as pd\n",
    "pd.options.display.width = 500\n",
    "\n",
    "slam_node_colors = {'gmapping': 'orange', 'slam_toolbox': 'blue', 'hector_slam': 'cyan'}\n"
   ]
  },
  {
   "cell_type": "code",
   "execution_count": 2,
   "metadata": {},
   "outputs": [],
   "source": [
    "def load_cache(file_path):\n",
    "    with open(path.expanduser(file_path), 'rb') as f:\n",
    "        cache_dict = pickle.load(f)\n",
    "        return cache_dict['df']\n",
    "\n",
    "def printmd(*args):\n",
    "    display(Markdown(' '.join(map(str, args))))"
   ]
  },
  {
   "cell_type": "code",
   "execution_count": 23,
   "metadata": {
    "scrolled": false
   },
   "outputs": [
    {
     "name": "stdout",
     "output_type": "stream",
     "text": [
      "robot_kinematic\n",
      "global_planner_name\n",
      "max_steering_angle\n",
      "primitives_per_angle\n",
      "time_out\n",
      "environment_name\n",
      "fr\n",
      "npl\n",
      "npt\n",
      "      global_planner_name  max_steering_angle  primitives_per_angle  time_out\n",
      "0       OmplGlobalPlanner                 NaN                   NaN       NaN\n",
      "1       OmplGlobalPlanner                 NaN                   NaN       NaN\n",
      "2       OmplGlobalPlanner                 NaN                   NaN       NaN\n",
      "3       OmplGlobalPlanner                 NaN                   NaN       NaN\n",
      "4       OmplGlobalPlanner                 NaN                   NaN       NaN\n",
      "...                   ...                 ...                   ...       ...\n",
      "64970   OmplGlobalPlanner                 NaN                   NaN       2.0\n",
      "64971   OmplGlobalPlanner                 NaN                   NaN       2.0\n",
      "64972   OmplGlobalPlanner                 NaN                   NaN       2.0\n",
      "64973   OmplGlobalPlanner                 NaN                   NaN       2.0\n",
      "64974   OmplGlobalPlanner                 NaN                   NaN       2.0\n",
      "\n",
      "[64975 rows x 4 columns]\n"
     ]
    },
    {
     "data": {
      "text/markdown": [
       "## Parameters and Their Values"
      ],
      "text/plain": [
       "<IPython.core.display.Markdown object>"
      ]
     },
     "metadata": {},
     "output_type": "display_data"
    },
    {
     "data": {
      "text/markdown": [
       "                    robot_kinematic ['bicycle', 'unicycle']"
      ],
      "text/plain": [
       "<IPython.core.display.Markdown object>"
      ]
     },
     "metadata": {},
     "output_type": "display_data"
    },
    {
     "data": {
      "text/markdown": [
       "                global_planner_name ['GlobalPlanner', 'OmplGlobalPlanner', 'SBPLLatticePlanner']"
      ],
      "text/plain": [
       "<IPython.core.display.Markdown object>"
      ]
     },
     "metadata": {},
     "output_type": "display_data"
    },
    {
     "data": {
      "text/markdown": [
       "                 max_steering_angle [nan, 20.0, 25.0, 30.0, 50.0]"
      ],
      "text/plain": [
       "<IPython.core.display.Markdown object>"
      ]
     },
     "metadata": {},
     "output_type": "display_data"
    },
    {
     "data": {
      "text/markdown": [
       "               primitives_per_angle [nan, 7.0, 9.0, 11.0]"
      ],
      "text/plain": [
       "<IPython.core.display.Markdown object>"
      ]
     },
     "metadata": {},
     "output_type": "display_data"
    },
    {
     "data": {
      "text/markdown": [
       "                           time_out [nan, 2.0, 10.0]"
      ],
      "text/plain": [
       "<IPython.core.display.Markdown object>"
      ]
     },
     "metadata": {},
     "output_type": "display_data"
    }
   ],
   "source": [
    "# load data from cache and rename columns\n",
    "df = load_cache(\"/mnt/HHD_ext4/ds/performance_modelling/output/global_planning/run_data_per_waypoint_cache.pkl\")\n",
    "df.rename(inplace=True, columns={\n",
    "    'feasibility_rate_feasibility_rate_of_path': 'fr',\n",
    "    'planning_time_over_voronoi_distance_normalized_planning_time_for_each_path': 'npt',\n",
    "    'euclidean_length_over_voronoi_distance_normalised_plan_length_for_each_path': 'npl',\n",
    "})\n",
    "\n",
    "# refactor and extract additional parameters and metrics\n",
    "# df['linear_update'] = df['linear_angular_update'].apply(lambda x: x[0])\n",
    "# df['beta'] = df['beta'].apply(lambda x: max(x))\n",
    "# df['norm_translation_error'] = df.translation_error / df.trajectory_length\n",
    "df['run_id'] = df['run_folder'].apply(lambda x: path.basename(x))\n",
    "# df['waypoint_index'] = df.sort_values('start_time_cont').groupby(df.run_id).cumcount()\n",
    "# df['accumulated_trajectory_length_cont'] = df.sort_values('start_time_cont').groupby(df.run_id).trajectory_length.cumsum() - df.trajectory_length\n",
    "df['session_id'] =  df['run_id'].apply(lambda x:  x.split('_')[1]+'_'+x.split('_')[2]+'_'+x.split('_')[3])\n",
    "df['run_number'] =  df['run_id'].apply(lambda x:  int(x.split('_')[5]))\n",
    "\n",
    "# only keep necessary columns\n",
    "robot_parameters = [\n",
    "    'robot_kinematic',\n",
    "]\n",
    "component_parameters = [\n",
    "    'global_planner_name',\n",
    "    'max_steering_angle',\n",
    "    'primitives_per_angle',\n",
    "    'time_out',\n",
    "]\n",
    "other_parameters = [\n",
    "#     'session_id',\n",
    "#     'run_number',\n",
    "#     'run_id',\n",
    "    'environment_name',\n",
    "]\n",
    "output_metrics = [\n",
    "    'fr',\n",
    "    'npl',\n",
    "    'npt',\n",
    "]\n",
    "df = df[\n",
    "    robot_parameters +\n",
    "    component_parameters +\n",
    "    other_parameters +\n",
    "    output_metrics\n",
    "]\n",
    "\n",
    "print('\\n'.join(list(df.columns)))\n",
    "print(df[component_parameters])\n",
    "\n",
    "printmd(\"## Parameters and Their Values\")\n",
    "for c in robot_parameters+component_parameters:\n",
    "    printmd(\"{:>35}\".format(c), sorted(list(df[c].unique())))"
   ]
  },
  {
   "cell_type": "code",
   "execution_count": null,
   "metadata": {},
   "outputs": [],
   "source": [
    "plt."
   ]
  }
 ],
 "metadata": {
  "kernelspec": {
   "display_name": "Python 3",
   "language": "python",
   "name": "python3"
  },
  "language_info": {
   "codemirror_mode": {
    "name": "ipython",
    "version": 3
   },
   "file_extension": ".py",
   "mimetype": "text/x-python",
   "name": "python",
   "nbconvert_exporter": "python",
   "pygments_lexer": "ipython3",
   "version": "3.8.5"
  }
 },
 "nbformat": 4,
 "nbformat_minor": 4
}
